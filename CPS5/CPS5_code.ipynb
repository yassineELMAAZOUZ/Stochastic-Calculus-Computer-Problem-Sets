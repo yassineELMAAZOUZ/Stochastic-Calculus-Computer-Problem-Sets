{
 "cells": [
  {
   "cell_type": "markdown",
   "metadata": {},
   "source": [
    "# CPS5"
   ]
  },
  {
   "cell_type": "markdown",
   "metadata": {},
   "source": [
    "### Setting up the environment "
   ]
  },
  {
   "cell_type": "code",
   "execution_count": 58,
   "metadata": {},
   "outputs": [],
   "source": [
    "#!/usr/bin/env python3\n",
    "# -*- coding: utf-8 -*-\n",
    "\"\"\"\n",
    "Created on Thenvironmentu Sep 27 22:49:33 2018\n",
    "\n",
    "@author: yassine\n",
    "\"\"\"\n",
    "\n",
    "################################################\n",
    "######## Importing useful modules ##############\n",
    "################################################\n",
    "\n",
    "from mpl_toolkits.mplot3d import Axes3D\n",
    "import numpy as np\n",
    "import scipy as sp\n",
    "from numba import jit\n",
    "import matplotlib.pyplot as plt\n",
    "import scipy.stats as sps\n",
    "\n",
    "%matplotlib qt5\n",
    "\n",
    "\n",
    "   "
   ]
  },
  {
   "cell_type": "markdown",
   "metadata": {},
   "source": [
    "### Question 1"
   ]
  },
  {
   "cell_type": "code",
   "execution_count": 60,
   "metadata": {},
   "outputs": [],
   "source": [
    "%%capture \n",
    "## the previous line is to supress unecessary outputs\n",
    "\n",
    "\n",
    "####### Classic MonteCarlo estimation ######\n",
    "@jit\n",
    "def classic_MonteCarlo(S0,r,sigma,K,T,N):\n",
    "    \n",
    "    BT = np.random.normal(0,np.sqrt(T),M)\n",
    "    ST = S0*np.exp( (r-(sigma**2)/2) + sigma*BT)\n",
    "    \n",
    "    return np.mean(ST>=K)\n",
    "\n"
   ]
  },
  {
   "cell_type": "markdown",
   "metadata": {},
   "source": [
    "### Question 2"
   ]
  },
  {
   "cell_type": "code",
   "execution_count": 63,
   "metadata": {},
   "outputs": [],
   "source": [
    "%%capture \n",
    "## the previous line is to supress unecessary outputs\n",
    "\n",
    "\n",
    "\n",
    "####### Importance Sampling MonteCarlo######\n",
    "@jit\n",
    "def changeOfMeasure_MonteCarlo(S0,r,sigma,K,T,M,theta):\n",
    "    \n",
    "    # Brownian motion under distribution Q\n",
    "    BT_forQ = np.random.normal(0,np.sqrt(T),M) + theta*T\n",
    "    \n",
    "    # ST simulated under distribution Q\n",
    "    ST_forQ = S0*np.exp( (r-(sigma**2)/2) + sigma*BT_forQ)\n",
    "    \n",
    "    # Likelihood or Q's density with respect to P \n",
    "    Likelihood = np.exp(theta*BT_forQ - 0.5*(theta**2)*T)\n",
    "    \n",
    "    return np.mean((ST_forQ>=K)/Likelihood)\n"
   ]
  },
  {
   "cell_type": "markdown",
   "metadata": {},
   "source": [
    "### Question 3"
   ]
  },
  {
   "cell_type": "code",
   "execution_count": 93,
   "metadata": {},
   "outputs": [],
   "source": [
    "###############################################\n",
    "####### Defining parameters and constants######\n",
    "###############################################\n",
    "\n",
    "def exactValue(S0,r,sigma,K,T):\n",
    "    \n",
    "    \"\"\" This function computes the exact value of the probability we are estimating \"\"\"\n",
    "    return sps.norm.cdf( (- np.log(K/S0) + (r-sigma**2)/2 ) / sigma )\n",
    "\n",
    "\n",
    "T  = 1\n",
    "S0 = 100\n",
    "K  = 150\n",
    "r  = 0.02\n",
    "sigma = 0.4\n",
    "M  = 1000\n",
    "\n",
    "\n",
    "\n",
    "\n",
    "\n",
    "theta_list = np.linspace(-3,3,101)\n",
    "\n",
    "estimations_errors = np.array([changeOfMeasure_MonteCarlo(S0,r,sigma,K,T,M,N,theta) for theta in theta_list ]) - exactValue(S0,r,sigma,K,T)\n",
    "\n",
    "plt.figure(\"Figure 1\")\n",
    "plt.plot(theta_list,estimations_errors,label=\"estimation errors for different theta values\")\n",
    "plt.grid(True)\n"
   ]
  },
  {
   "cell_type": "markdown",
   "metadata": {},
   "source": [
    "### Question 4"
   ]
  },
  {
   "cell_type": "code",
   "execution_count": 101,
   "metadata": {},
   "outputs": [],
   "source": [
    "####### Importance Sampling MonteCarlo######\n",
    "@jit\n",
    "def Variance_estimator(S0,r,sigma,K,T,M,theta):\n",
    "    \n",
    "    # Brownian motion under distribution Q\n",
    "    BT_forQ = np.random.normal(0,np.sqrt(T),M) + theta*T\n",
    "    \n",
    "    # ST simulated under distribution Q\n",
    "    ST_forQ = S0*np.exp( (r-(sigma**2)/2) + sigma*BT_forQ)\n",
    "    \n",
    "    # Likelihood or Q's density with respect to P \n",
    "    Likelihood = np.exp(theta*BT_forQ - 0.5*(theta**2)*T)\n",
    "    \n",
    "    Delta0 = exactValue(S0,r,sigma,K,T)\n",
    "    \n",
    "    return np.mean((ST_forQ>=K)/(Likelihood**2)) - (Delta0**2)\n"
   ]
  },
  {
   "cell_type": "code",
   "execution_count": 129,
   "metadata": {},
   "outputs": [
    {
     "data": {
      "text/plain": [
       "[<matplotlib.lines.Line2D at 0x7fcadc4b14a8>]"
      ]
     },
     "execution_count": 129,
     "metadata": {},
     "output_type": "execute_result"
    }
   ],
   "source": [
    "T  = 1\n",
    "S0 = 100\n",
    "K  = 150\n",
    "r  = 0.02\n",
    "sigma = 0.4\n",
    "M  = 100000\n",
    "\n",
    "\n",
    "\n",
    "\n",
    "theta_list = np.linspace(-1,3,1000)\n",
    "\n",
    "Variance_estimations = [Variance_estimator(S0,r,sigma,K,T,M,N,theta) for theta in theta_list ]\n",
    "\n",
    "plt.figure(\"Figure 4\")\n",
    "\n",
    "plt.plot(theta_list,Variance_estimations)\n"
   ]
  }
 ],
 "metadata": {
  "kernelspec": {
   "display_name": "Python 3",
   "language": "python",
   "name": "python3"
  },
  "language_info": {
   "codemirror_mode": {
    "name": "ipython",
    "version": 3
   },
   "file_extension": ".py",
   "mimetype": "text/x-python",
   "name": "python",
   "nbconvert_exporter": "python",
   "pygments_lexer": "ipython3",
   "version": "3.6.6"
  }
 },
 "nbformat": 4,
 "nbformat_minor": 2
}
