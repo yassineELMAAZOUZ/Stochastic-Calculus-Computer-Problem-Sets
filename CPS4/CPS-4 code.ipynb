{
 "cells": [
  {
   "cell_type": "markdown",
   "metadata": {},
   "source": [
    "# CPS4"
   ]
  },
  {
   "cell_type": "markdown",
   "metadata": {},
   "source": [
    "## Brownian Generator code"
   ]
  },
  {
   "cell_type": "code",
   "execution_count": 2,
   "metadata": {},
   "outputs": [],
   "source": [
    "#!/usr/bin/env python3\n",
    "# -*- coding: utf-8 -*-\n",
    "\"\"\"\n",
    "Created on Thu Sep 27 22:49:33 2018\n",
    "\n",
    "@author: yassine\n",
    "\"\"\"\n",
    "\n",
    "################################################\n",
    "######## Importing useful modules ##############\n",
    "################################################\n",
    "\n",
    "from mpl_toolkits.mplot3d import Axes3D\n",
    "import numpy as np\n",
    "import matplotlib.pyplot as plt\n",
    "import scipy as sp\n",
    "from numba import jit\n",
    "import scipy.stats as sps\n",
    "\n",
    "%matplotlib qt4\n",
    "\n",
    "\n",
    "@jit\n",
    "def Brownian_Generator(T,n,N):\n",
    "    \"\"\"\n",
    "        This function generates N trajectories of the Brownian motion W with T/n the step of dicretization\n",
    "        \n",
    "        and [0,T] is the time interval on which we simulate.\n",
    "        \n",
    "        Each column of W is a trajectory among the N trajectories.\n",
    "    \n",
    "    \"\"\"\n",
    "    \n",
    "    \n",
    "    Delta_T = T/n\n",
    "    Z = np.random.normal(0,1,size=(n,N))\n",
    "    \n",
    "    W = np.zeros((n+1,N))\n",
    "    W[1:,:] = np.cumsum(np.sqrt(Delta_T)*Z,axis=0)\n",
    "    \n",
    "    return W"
   ]
  },
  {
   "cell_type": "markdown",
   "metadata": {},
   "source": [
    "\n",
    "## Question 1"
   ]
  },
  {
   "cell_type": "code",
   "execution_count": 4,
   "metadata": {},
   "outputs": [
    {
     "data": {
      "text/plain": [
       "<matplotlib.legend.Legend at 0x7f80a852bd30>"
      ]
     },
     "execution_count": 4,
     "metadata": {},
     "output_type": "execute_result"
    }
   ],
   "source": [
    "r = 0.03\n",
    "sigma = 0.3\n",
    "S0 = 100\n",
    "\n",
    "mu = 0.05 \n",
    "#mu = 0.02\n",
    "#mu = 0.45\n",
    "\n",
    "T = 1\n",
    "n = 100\n",
    "N = 1000\n",
    "\n",
    "\n",
    "\n",
    "def S_generator(S0,T,n,N):\n",
    "\n",
    "    times = (np.linspace(0,T,n+1)).reshape((n+1,1))\n",
    "\n",
    "    W_copies = Brownian_Generator(T,n,N)\n",
    "    S_copies = S0 * np.exp((mu- (sigma**2/2) )*times)  * np.exp(sigma*W_copies)\n",
    "\n",
    "    return S_copies\n",
    "    \n",
    "    \n",
    "times = (np.linspace(0,T,n+1)).reshape((n+1,1)) \n",
    "\n",
    "S_copies = S_generator(S0,T,n,N)\n",
    "S_mean = np.mean(S_copies,axis=1)\n",
    "\n",
    "\n",
    "\n",
    "plt.plot(times,S0*np.exp(mu*times),color = 'red',lw=1,label = \"Exact mean\")\n",
    "plt.plot(times,S_mean,color = 'green',lw=0.7,label = \"Monte-Carlo mean estimation\")\n",
    "\n",
    "plt.legend(loc=\"best\")"
   ]
  },
  {
   "cell_type": "markdown",
   "metadata": {},
   "source": [
    "## Question 2"
   ]
  },
  {
   "cell_type": "code",
   "execution_count": 12,
   "metadata": {},
   "outputs": [
    {
     "data": {
      "text/plain": [
       "13.283308397880909"
      ]
     },
     "execution_count": 12,
     "metadata": {},
     "output_type": "execute_result"
    }
   ],
   "source": [
    "def d_plus(s,k,v):\n",
    "    return np.log(s/k)/np.sqrt(v) + np.sqrt(v)/2\n",
    "    \n",
    "def d_minus(s,k,v):\n",
    "    return np.log(s/k)/np.sqrt(v) - np.sqrt(v)/2\n",
    "\n",
    "def Delta(St,K,DT):    \n",
    "    return sps.norm.cdf( d_plus(St , K*np.exp(-r*DT) , (sigma**2)*DT) )\n",
    "    \n",
    "def BS(S0,K,T):\n",
    "    return S0*sps.norm.cdf( d_plus(S0, K*np.exp(-r*T), (sigma**2)*T) ) - K*np.exp(-r*T)*sps.norm.cdf( d_minus(S0, K*np.exp(-r*T), (sigma**2)*T) )\n",
    "\n",
    "BS(S0,100,T)\n",
    "\n",
    "    "
   ]
  },
  {
   "cell_type": "markdown",
   "metadata": {},
   "source": [
    "## 2-a"
   ]
  },
  {
   "cell_type": "code",
   "execution_count": 14,
   "metadata": {},
   "outputs": [],
   "source": [
    "r = 0.03\n",
    "sigma = 0.3\n",
    "S0 = 100\n",
    "\n",
    "mu = 0.05 \n",
    "#mu = 0.02\n",
    "#mu = 0.45\n",
    "\n",
    "T = 1\n",
    "n = 100\n",
    "N = 1000\n",
    "\n",
    "\n",
    "\n",
    "def X_generator(K_list,S0,T,n,N):\n",
    "    \n",
    "    \n",
    "    times = (np.linspace(0,T,n+1)).reshape((n+1,1))\n",
    "    S_copies = S_generator(S0,T,n,N)\n",
    "    \n",
    "    X_copies = np.zeros((41,N))\n",
    "\n",
    "    for i in range(41):\n",
    "\n",
    "        K = K_list[i]\n",
    "\n",
    "        delta_t_K = Delta( S_copies[:n,], K, T-times[:n] )\n",
    "        actualisedS_copies = np.exp(-r*times)*S_copies\n",
    "\n",
    "        X_copies[i,:] = BS(S0,100,T)+ np.sum(delta_t_K*(actualisedS_copies[1:,:] - actualisedS_copies[:n,:]),axis=0)\n",
    "\n",
    "    return X_copies\n",
    "\n",
    "\n",
    "\n",
    "def PL_Generator(K_list,S0,T,n,N):\n",
    "    \n",
    "    times = (np.linspace(0,T,n+1)).reshape((n+1,1))\n",
    "    S_copies = S_generator(S0,T,n,N)\n",
    "    \n",
    "    X_copies = np.zeros((len(K_list),N))\n",
    "    PayOff = np.zeros((len(K_list),N))\n",
    "    \n",
    "    for i in range(len(K_list)):\n",
    "\n",
    "        K = K_list[i]\n",
    "\n",
    "        delta_t_K = Delta( S_copies[:n,], K, T-times[:n] )\n",
    "        actualisedS_copies = np.exp(-r*times)*S_copies\n",
    "\n",
    "        X_copies[i,:] = BS(S0,100,T)+ np.sum(delta_t_K*(actualisedS_copies[1:,:] - actualisedS_copies[:n,:]),axis=0)\n",
    "\n",
    "        PayOff[i,:] = (S_copies[-1,:] - K)*((S_copies[-1,:] - K)>0)\n",
    "        \n",
    "        \n",
    "    PL_copies = X_copies - PayOff\n",
    "    \n",
    "    return PL_copies\n",
    "    \n",
    "    \n"
   ]
  },
  {
   "cell_type": "code",
   "execution_count": 15,
   "metadata": {},
   "outputs": [],
   "source": [
    "r = 0.03\n",
    "sigma = 0.3\n",
    "S0 = 100\n",
    "\n",
    "mu = 0.05 \n",
    "#mu = 0.02\n",
    "#mu = 0.45\n",
    "\n",
    "T = 1\n",
    "N = 10000\n",
    "\n",
    "\n",
    "\n",
    "K_list = np.arange(80,121)\n",
    "n_list = np.arange(100,120)\n",
    "\n",
    "\n",
    "PL_mean_matrix = np.zeros((len(K_list),len(n_list)))\n",
    "PL_std_matrix = np.zeros((len(K_list),len(n_list)))\n",
    "\n",
    "for i in range(len(n_list)):\n",
    "    \n",
    "    n = n_list[i]\n",
    "    PL = PL_Generator(K_list,S0,T,n,N)\n",
    "    \n",
    "    PL_mean_matrix[:,i] = np.mean(PL,axis=1)\n",
    "    PL_std_matrix[:,i] = np.std(PL,axis=1)\n"
   ]
  },
  {
   "cell_type": "code",
   "execution_count": 16,
   "metadata": {},
   "outputs": [],
   "source": [
    "X,Y = np.meshgrid(n_list,K_list)\n",
    "\n",
    "\n",
    "fig1 = plt.figure(1)\n",
    "ax1 = fig1.gca(projection='3d')\n",
    "ax1.set_xlabel('n values')\n",
    "ax1.set_ylabel('K values')\n",
    "ax1.set_zlabel('mean of PL')\n",
    "\n",
    "surf = ax1.plot_surface(X, Y, PL_mean_matrix,color = \"orange\")\n",
    "\n",
    "\n",
    "fig2 = plt.figure(2)\n",
    "ax2 = fig2.gca(projection='3d')\n",
    "ax2.set_xlabel('n values')\n",
    "ax2.set_ylabel('K values')\n",
    "ax2.set_zlabel('mean of PL')\n",
    "\n",
    "surf = ax2.plot_surface(X, Y, PL_std_matrix, color = \"blue\")\n",
    "\n",
    "\n",
    "\n"
   ]
  },
  {
   "cell_type": "code",
   "execution_count": null,
   "metadata": {},
   "outputs": [],
   "source": []
  },
  {
   "cell_type": "code",
   "execution_count": null,
   "metadata": {},
   "outputs": [],
   "source": []
  },
  {
   "cell_type": "code",
   "execution_count": null,
   "metadata": {},
   "outputs": [],
   "source": []
  }
 ],
 "metadata": {
  "kernelspec": {
   "display_name": "Python 3",
   "language": "python",
   "name": "python3"
  },
  "language_info": {
   "codemirror_mode": {
    "name": "ipython",
    "version": 3
   },
   "file_extension": ".py",
   "mimetype": "text/x-python",
   "name": "python",
   "nbconvert_exporter": "python",
   "pygments_lexer": "ipython3",
   "version": "3.6.5"
  }
 },
 "nbformat": 4,
 "nbformat_minor": 2
}
